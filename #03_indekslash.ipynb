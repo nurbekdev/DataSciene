{
  "nbformat": 4,
  "nbformat_minor": 0,
  "metadata": {
    "colab": {
      "provenance": [],
      "authorship_tag": "ABX9TyNSbK0gK4grX4zfpc1ozSls",
      "include_colab_link": true
    },
    "kernelspec": {
      "name": "python3",
      "display_name": "Python 3"
    },
    "language_info": {
      "name": "python"
    }
  },
  "cells": [
    {
      "cell_type": "markdown",
      "metadata": {
        "id": "view-in-github",
        "colab_type": "text"
      },
      "source": [
        "<a href=\"https://colab.research.google.com/github/nurbekdev/DataSciene/blob/main/%2303_indekslash.ipynb\" target=\"_parent\"><img src=\"https://colab.research.google.com/assets/colab-badge.svg\" alt=\"Open In Colab\"/></a>"
      ]
    },
    {
      "cell_type": "markdown",
      "source": [
        "![nurbekdev (2).png](data:image/png;base64,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)"
      ],
      "metadata": {
        "id": "IpuJM0BRDhO7"
      }
    },
    {
      "cell_type": "markdown",
      "source": [
        "# Mavzu: Indekslash va Kesish asoslari\n",
        "# Yozildi: Nurbek Po'latov"
      ],
      "metadata": {
        "id": "qQpbPekdDmgF"
      }
    },
    {
      "cell_type": "code",
      "execution_count": 1,
      "metadata": {
        "id": "MRlI8l0NDWJn"
      },
      "outputs": [],
      "source": [
        "import numpy as np"
      ]
    },
    {
      "cell_type": "code",
      "source": [
        "arr = np.arange(10,100,10)\n",
        "arr[-2]"
      ],
      "metadata": {
        "colab": {
          "base_uri": "https://localhost:8080/"
        },
        "id": "SESBDQqDDzPO",
        "outputId": "01e7be20-eed0-456d-fe11-14e0c8bbd7f5"
      },
      "execution_count": 3,
      "outputs": [
        {
          "output_type": "execute_result",
          "data": {
            "text/plain": [
              "80"
            ]
          },
          "metadata": {},
          "execution_count": 3
        }
      ]
    },
    {
      "cell_type": "code",
      "source": [
        "arr[4:6]"
      ],
      "metadata": {
        "colab": {
          "base_uri": "https://localhost:8080/"
        },
        "id": "ESkiTBMoD6af",
        "outputId": "630fb3c9-f957-474f-c5e2-91b93b1f8428"
      },
      "execution_count": 4,
      "outputs": [
        {
          "output_type": "execute_result",
          "data": {
            "text/plain": [
              "array([50, 60])"
            ]
          },
          "metadata": {},
          "execution_count": 4
        }
      ]
    },
    {
      "cell_type": "code",
      "source": [
        "sl_arr = arr[4:7]\n",
        "sl_arr[:] = 0\n",
        "arr"
      ],
      "metadata": {
        "colab": {
          "base_uri": "https://localhost:8080/"
        },
        "id": "nmi48CSgEDUv",
        "outputId": "1f4eb7d9-6c50-494b-c9f7-cf6927eba45a"
      },
      "execution_count": 5,
      "outputs": [
        {
          "output_type": "execute_result",
          "data": {
            "text/plain": [
              "array([10, 20, 30, 40,  0,  0,  0, 80, 90])"
            ]
          },
          "metadata": {},
          "execution_count": 5
        }
      ]
    },
    {
      "cell_type": "markdown",
      "source": [
        "`copy` usuli arrayning ma'lumotlarini o'zgartirmaydi"
      ],
      "metadata": {
        "id": "mJ0ZzQAaEYmk"
      }
    },
    {
      "cell_type": "code",
      "source": [
        "arr1 = np.arange(10,100,10)\n",
        "arr1"
      ],
      "metadata": {
        "colab": {
          "base_uri": "https://localhost:8080/"
        },
        "id": "X1I4LL41EVrH",
        "outputId": "415a1fa2-87b1-4e07-fed7-b5916ac1fdc0"
      },
      "execution_count": 8,
      "outputs": [
        {
          "output_type": "execute_result",
          "data": {
            "text/plain": [
              "array([10, 20, 30, 40, 50, 60, 70, 80, 90])"
            ]
          },
          "metadata": {},
          "execution_count": 8
        }
      ]
    },
    {
      "cell_type": "code",
      "source": [
        "sl_arr1 = arr[2:5].copy()\n",
        "sl_arr1[:] = 0\n",
        "sl_arr1"
      ],
      "metadata": {
        "colab": {
          "base_uri": "https://localhost:8080/"
        },
        "id": "KkshOxcWEksQ",
        "outputId": "079f0869-948d-4a5b-a5d5-15e27b2561f7"
      },
      "execution_count": 9,
      "outputs": [
        {
          "output_type": "execute_result",
          "data": {
            "text/plain": [
              "array([0, 0, 0])"
            ]
          },
          "metadata": {},
          "execution_count": 9
        }
      ]
    },
    {
      "cell_type": "code",
      "source": [
        "arr1"
      ],
      "metadata": {
        "colab": {
          "base_uri": "https://localhost:8080/"
        },
        "id": "CoVT7I7cEym0",
        "outputId": "5e385268-d01d-4819-e0bb-0ba9fb9c8ee3"
      },
      "execution_count": 10,
      "outputs": [
        {
          "output_type": "execute_result",
          "data": {
            "text/plain": [
              "array([10, 20, 30, 40, 50, 60, 70, 80, 90])"
            ]
          },
          "metadata": {},
          "execution_count": 10
        }
      ]
    },
    {
      "cell_type": "markdown",
      "source": [
        "### 2 o'lchamli (2d array) massivlarda indeks va kesib olish "
      ],
      "metadata": {
        "id": "M_U4435eE4hI"
      }
    },
    {
      "cell_type": "code",
      "source": [
        "array2d = np.array([[1, 2, 3], [4, 5, 6], [7, 8, 9]])\n",
        "array2d"
      ],
      "metadata": {
        "colab": {
          "base_uri": "https://localhost:8080/"
        },
        "id": "hqmoBZKYE0bb",
        "outputId": "f922d8a9-56b8-41b4-c9ac-c47127e534df"
      },
      "execution_count": 24,
      "outputs": [
        {
          "output_type": "execute_result",
          "data": {
            "text/plain": [
              "array([[1, 2, 3],\n",
              "       [4, 5, 6],\n",
              "       [7, 8, 9]])"
            ]
          },
          "metadata": {},
          "execution_count": 24
        }
      ]
    },
    {
      "cell_type": "code",
      "source": [
        "array2d"
      ],
      "metadata": {
        "colab": {
          "base_uri": "https://localhost:8080/"
        },
        "id": "qIdbR8m9FIkB",
        "outputId": "00bbaf4f-8f55-413e-f807-a7c2d64b5438"
      },
      "execution_count": 25,
      "outputs": [
        {
          "output_type": "execute_result",
          "data": {
            "text/plain": [
              "array([[1, 2, 3],\n",
              "       [4, 5, 6],\n",
              "       [7, 8, 9]])"
            ]
          },
          "metadata": {},
          "execution_count": 25
        }
      ]
    },
    {
      "cell_type": "markdown",
      "source": [
        "### 2-o'lchamli massivlarning bir nechta elementlarini kesib olish"
      ],
      "metadata": {
        "id": "x-GrUvJ7FZgM"
      }
    },
    {
      "cell_type": "code",
      "source": [
        "sl_arr2d = array2d[2, :]\n",
        "sl_arr2d"
      ],
      "metadata": {
        "colab": {
          "base_uri": "https://localhost:8080/"
        },
        "id": "v22a4K13FV7q",
        "outputId": "ae40021f-302b-43a1-87d1-7a74613b5620"
      },
      "execution_count": 26,
      "outputs": [
        {
          "output_type": "execute_result",
          "data": {
            "text/plain": [
              "array([7, 8, 9])"
            ]
          },
          "metadata": {},
          "execution_count": 26
        }
      ]
    },
    {
      "cell_type": "code",
      "source": [
        "sl2_arr2d = array2d[1, 1:]\n",
        "sl2_arr2d"
      ],
      "metadata": {
        "colab": {
          "base_uri": "https://localhost:8080/"
        },
        "id": "mY-HVJLYFjLM",
        "outputId": "0bf41777-7618-4194-e8c1-5be1b23f7725"
      },
      "execution_count": 29,
      "outputs": [
        {
          "output_type": "execute_result",
          "data": {
            "text/plain": [
              "array([5, 6])"
            ]
          },
          "metadata": {},
          "execution_count": 29
        }
      ]
    },
    {
      "cell_type": "markdown",
      "source": [
        "### 3-o'lchamli massivlarda indeks va kesib olish asoslari"
      ],
      "metadata": {
        "id": "5FT3ObhmH5Ct"
      }
    },
    {
      "cell_type": "code",
      "source": [
        "# 3D array\n",
        "arr3d = np.array([[[1, 2, 3],\n",
        "                  [4, 5, 6],\n",
        "                  [7, 8, 9]],\n",
        "\n",
        "                  [[10, 11, 12],\n",
        "                   [13, 14, 15],\n",
        "                   [16, 17, 18]],\n",
        "                  \n",
        "                  [[19, 20, 21],\n",
        "                   [22, 23, 24],\n",
        "                   [25, 26, 27]]\n",
        "                  ])\n",
        "\n",
        "arr3d"
      ],
      "metadata": {
        "colab": {
          "base_uri": "https://localhost:8080/"
        },
        "id": "oo84ljdtHko8",
        "outputId": "af77c522-fd5d-44f2-ec1d-980d15b2c746"
      },
      "execution_count": 31,
      "outputs": [
        {
          "output_type": "execute_result",
          "data": {
            "text/plain": [
              "array([[[ 1,  2,  3],\n",
              "        [ 4,  5,  6],\n",
              "        [ 7,  8,  9]],\n",
              "\n",
              "       [[10, 11, 12],\n",
              "        [13, 14, 15],\n",
              "        [16, 17, 18]],\n",
              "\n",
              "       [[19, 20, 21],\n",
              "        [22, 23, 24],\n",
              "        [25, 26, 27]]])"
            ]
          },
          "metadata": {},
          "execution_count": 31
        }
      ]
    },
    {
      "cell_type": "code",
      "source": [
        "arr3d[0][0, 1]"
      ],
      "metadata": {
        "colab": {
          "base_uri": "https://localhost:8080/"
        },
        "id": "i4mlWUU3Ij8y",
        "outputId": "a14ef265-fa33-4577-9198-d731b7ba5d4c"
      },
      "execution_count": 32,
      "outputs": [
        {
          "output_type": "execute_result",
          "data": {
            "text/plain": [
              "2"
            ]
          },
          "metadata": {},
          "execution_count": 32
        }
      ]
    },
    {
      "cell_type": "code",
      "source": [],
      "metadata": {
        "id": "aXN3Yn08I3b2"
      },
      "execution_count": null,
      "outputs": []
    }
  ]
}