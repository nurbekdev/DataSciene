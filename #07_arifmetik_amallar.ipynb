{
  "nbformat": 4,
  "nbformat_minor": 0,
  "metadata": {
    "colab": {
      "provenance": [],
      "authorship_tag": "ABX9TyMMA0EqjUKxSfdxVSMOeW/h",
      "include_colab_link": true
    },
    "kernelspec": {
      "name": "python3",
      "display_name": "Python 3"
    },
    "language_info": {
      "name": "python"
    }
  },
  "cells": [
    {
      "cell_type": "markdown",
      "metadata": {
        "id": "view-in-github",
        "colab_type": "text"
      },
      "source": [
        "<a href=\"https://colab.research.google.com/github/nurbekdev/DataSciene/blob/main/%2307_arifmetik_amallar.ipynb\" target=\"_parent\"><img src=\"https://colab.research.google.com/assets/colab-badge.svg\" alt=\"Open In Colab\"/></a>"
      ]
    },
    {
      "cell_type": "markdown",
      "source": [
        "# Arifmetik amallar"
      ],
      "metadata": {
        "id": "tm_cCFn-eLe7"
      }
    },
    {
      "cell_type": "markdown",
      "source": [
        "### NumPy kutubxonasini chaqirib olamiz"
      ],
      "metadata": {
        "id": "ihSe9xfeeTsM"
      }
    },
    {
      "cell_type": "code",
      "execution_count": 1,
      "metadata": {
        "id": "eaRO-HB0d3Ya"
      },
      "outputs": [],
      "source": [
        "import numpy as np"
      ]
    },
    {
      "cell_type": "markdown",
      "source": [
        "### Ko'paytirish amalli"
      ],
      "metadata": {
        "id": "lCMcgFEweaxK"
      }
    },
    {
      "cell_type": "code",
      "source": [
        "#data\n",
        "arr1 = np.arange(6).reshape(2, 3)\n",
        "arr2 = np.arange(6, 12).reshape(2, 3)"
      ],
      "metadata": {
        "id": "JT6GRoIHeZOk"
      },
      "execution_count": 5,
      "outputs": []
    },
    {
      "cell_type": "code",
      "source": [
        "# Ko'paytish\n",
        "arr1* arr2 # arr1 ning elementlarini arr2 mos elemntlariga ko'paytirib beradi"
      ],
      "metadata": {
        "colab": {
          "base_uri": "https://localhost:8080/"
        },
        "id": "98G5Ecfoep8g",
        "outputId": "78741061-f276-4ccb-8947-1c776540402a"
      },
      "execution_count": 7,
      "outputs": [
        {
          "output_type": "execute_result",
          "data": {
            "text/plain": [
              "array([[ 0,  7, 16],\n",
              "       [27, 40, 55]])"
            ]
          },
          "metadata": {},
          "execution_count": 7
        }
      ]
    },
    {
      "cell_type": "code",
      "source": [
        "# Bo'lish\n",
        "arr2 / arr1 # arr2 ning barcha elementlarini arr1 mos elemtlariga bo'ladi"
      ],
      "metadata": {
        "colab": {
          "base_uri": "https://localhost:8080/"
        },
        "id": "IT69oKvvezNy",
        "outputId": "9eee0005-cb1c-491e-d273-073fba6c5dcb"
      },
      "execution_count": 8,
      "outputs": [
        {
          "output_type": "stream",
          "name": "stderr",
          "text": [
            "<ipython-input-8-348274337a8c>:2: RuntimeWarning: divide by zero encountered in true_divide\n",
            "  arr2 / arr1 # arr2 ning barcha elementlarini arr1 mos elemtlariga bo'ladi\n"
          ]
        },
        {
          "output_type": "execute_result",
          "data": {
            "text/plain": [
              "array([[inf, 7. , 4. ],\n",
              "       [3. , 2.5, 2.2]])"
            ]
          },
          "metadata": {},
          "execution_count": 8
        }
      ]
    },
    {
      "cell_type": "code",
      "source": [
        "# Qo'shish\n",
        "arr1 + arr2"
      ],
      "metadata": {
        "colab": {
          "base_uri": "https://localhost:8080/"
        },
        "id": "L4qcdXgifMDW",
        "outputId": "e5691893-efe6-471b-9746-695a1f5c7fb5"
      },
      "execution_count": 9,
      "outputs": [
        {
          "output_type": "execute_result",
          "data": {
            "text/plain": [
              "array([[ 6,  8, 10],\n",
              "       [12, 14, 16]])"
            ]
          },
          "metadata": {},
          "execution_count": 9
        }
      ]
    },
    {
      "cell_type": "code",
      "source": [
        "# Ayirish\n",
        "arr2 - arr1 # arr2 ning elementlaridan arr1 ning mos elemtlarini ayiradi"
      ],
      "metadata": {
        "colab": {
          "base_uri": "https://localhost:8080/"
        },
        "id": "V_R4gZe2fRik",
        "outputId": "62efb61a-a7d9-4588-d025-a9703ec94002"
      },
      "execution_count": 11,
      "outputs": [
        {
          "output_type": "execute_result",
          "data": {
            "text/plain": [
              "array([[6, 6, 6],\n",
              "       [6, 6, 6]])"
            ]
          },
          "metadata": {},
          "execution_count": 11
        }
      ]
    },
    {
      "cell_type": "code",
      "source": [
        "# Kvadratga oshirish (square)\n",
        "arr1 ** 2"
      ],
      "metadata": {
        "colab": {
          "base_uri": "https://localhost:8080/"
        },
        "id": "GDYEhco5fVnm",
        "outputId": "1e49c7bc-dcf1-412c-bc17-0f25d5f7f09c"
      },
      "execution_count": 12,
      "outputs": [
        {
          "output_type": "execute_result",
          "data": {
            "text/plain": [
              "array([[ 0,  1,  4],\n",
              "       [ 9, 16, 25]])"
            ]
          },
          "metadata": {},
          "execution_count": 12
        }
      ]
    },
    {
      "cell_type": "code",
      "source": [
        "# Kvadrat ildizdan chiqarish (sqrt)\n",
        "arr2 ** 0.5"
      ],
      "metadata": {
        "colab": {
          "base_uri": "https://localhost:8080/"
        },
        "id": "qroO8GAyfktV",
        "outputId": "b2d8ccee-3f16-453f-c74b-9ecd2d207de7"
      },
      "execution_count": 13,
      "outputs": [
        {
          "output_type": "execute_result",
          "data": {
            "text/plain": [
              "array([[2.44948974, 2.64575131, 2.82842712],\n",
              "       [3.        , 3.16227766, 3.31662479]])"
            ]
          },
          "metadata": {},
          "execution_count": 13
        }
      ]
    },
    {
      "cell_type": "code",
      "source": [],
      "metadata": {
        "id": "XDb45HkCfwOS"
      },
      "execution_count": null,
      "outputs": []
    }
  ]
}