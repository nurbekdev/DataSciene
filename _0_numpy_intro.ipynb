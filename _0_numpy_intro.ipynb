{
  "nbformat": 4,
  "nbformat_minor": 0,
  "metadata": {
    "colab": {
      "provenance": [],
      "authorship_tag": "ABX9TyPw/83LjM0Scb+2n2WsD5Ge",
      "include_colab_link": true
    },
    "kernelspec": {
      "name": "python3",
      "display_name": "Python 3"
    },
    "language_info": {
      "name": "python"
    }
  },
  "cells": [
    {
      "cell_type": "markdown",
      "metadata": {
        "id": "view-in-github",
        "colab_type": "text"
      },
      "source": [
        "<a href=\"https://colab.research.google.com/github/nurbekdev/DataSciene/blob/main/_0_numpy_intro.ipynb\" target=\"_parent\"><img src=\"https://colab.research.google.com/assets/colab-badge.svg\" alt=\"Open In Colab\"/></a>"
      ]
    },
    {
      "cell_type": "markdown",
      "source": [
        "# List va Arrayning farqi\n"
      ],
      "metadata": {
        "id": "lMgSWvEskX_B"
      }
    },
    {
      "cell_type": "code",
      "execution_count": 1,
      "metadata": {
        "id": "cIRV-ZaskOdv"
      },
      "outputs": [],
      "source": [
        "import numpy as np #NumPy kutubxonasini chaqirib olish"
      ]
    },
    {
      "cell_type": "code",
      "source": [
        "my_list = list(range(1000000)) #Python list 0~999999 --> Normal\n",
        "my_array = np.array(range(1000000)) #NumPy array 0~999999 --> Vektorlashgan"
      ],
      "metadata": {
        "id": "fwBbj4XDkoFc"
      },
      "execution_count": 5,
      "outputs": []
    },
    {
      "cell_type": "markdown",
      "source": [
        "**Solishtirish**\n"
      ],
      "metadata": {
        "id": "__YnjcdSlEH6"
      }
    },
    {
      "cell_type": "code",
      "source": [
        "%time for _ in range(10): [x*2 for x in my_list] #Normal"
      ],
      "metadata": {
        "colab": {
          "base_uri": "https://localhost:8080/"
        },
        "id": "o3J4Q3pNlBcj",
        "outputId": "f46fe518-f6eb-4d45-8dba-4ac469e1db6f"
      },
      "execution_count": 6,
      "outputs": [
        {
          "output_type": "stream",
          "name": "stdout",
          "text": [
            "CPU times: user 674 ms, sys: 182 ms, total: 856 ms\n",
            "Wall time: 865 ms\n"
          ]
        }
      ]
    },
    {
      "cell_type": "code",
      "source": [
        "%time for _ in range(10): [x*2 for x in my_array] #Vektorlashgan"
      ],
      "metadata": {
        "colab": {
          "base_uri": "https://localhost:8080/"
        },
        "id": "yoI8VMS7lWCq",
        "outputId": "ce183d9d-6903-4c90-cacd-eee99e3aa068"
      },
      "execution_count": 7,
      "outputs": [
        {
          "output_type": "stream",
          "name": "stdout",
          "text": [
            "CPU times: user 2.43 s, sys: 211 ms, total: 2.64 s\n",
            "Wall time: 2.68 s\n"
          ]
        }
      ]
    },
    {
      "cell_type": "code",
      "source": [
        "865/2.68\n"
      ],
      "metadata": {
        "colab": {
          "base_uri": "https://localhost:8080/"
        },
        "id": "JauVk9eJloB6",
        "outputId": "74df16bd-0a65-4981-ab03-2498a88e96e0"
      },
      "execution_count": 8,
      "outputs": [
        {
          "output_type": "execute_result",
          "data": {
            "text/plain": [
              "322.76119402985074"
            ]
          },
          "metadata": {},
          "execution_count": 8
        }
      ]
    },
    {
      "cell_type": "code",
      "source": [],
      "metadata": {
        "id": "Bi908muYluGy"
      },
      "execution_count": null,
      "outputs": []
    }
  ]
}