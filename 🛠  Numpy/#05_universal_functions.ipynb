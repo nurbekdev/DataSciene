{
  "nbformat": 4,
  "nbformat_minor": 0,
  "metadata": {
    "colab": {
      "provenance": [],
      "authorship_tag": "ABX9TyPeaGbnXhg39bq/FOoqIRmB",
      "include_colab_link": true
    },
    "kernelspec": {
      "name": "python3",
      "display_name": "Python 3"
    },
    "language_info": {
      "name": "python"
    }
  },
  "cells": [
    {
      "cell_type": "markdown",
      "metadata": {
        "id": "view-in-github",
        "colab_type": "text"
      },
      "source": [
        "<a href=\"https://colab.research.google.com/github/nurbekdev/DataSciene/blob/main/%2305_universal_functions.ipynb\" target=\"_parent\"><img src=\"https://colab.research.google.com/assets/colab-badge.svg\" alt=\"Open In Colab\"/></a>"
      ]
    },
    {
      "cell_type": "markdown",
      "source": [
        "# Universal funksiyalar"
      ],
      "metadata": {
        "id": "oPwGA7C00gjL"
      }
    },
    {
      "cell_type": "code",
      "execution_count": 2,
      "metadata": {
        "id": "Epu4l1m-0bin"
      },
      "outputs": [],
      "source": [
        "import numpy as np"
      ]
    },
    {
      "cell_type": "markdown",
      "source": [
        "### Unary funksiyalar (Bitta qiymat qabul qiluvchi)"
      ],
      "metadata": {
        "id": "U2hUBw_Q0-KO"
      }
    },
    {
      "cell_type": "markdown",
      "source": [
        "### `sqrt`, `square`, `exp`, `log`, `modf`, `sign`, `isnan` funksiyalari"
      ],
      "metadata": {
        "id": "CN2ZPAqn1lhk"
      }
    },
    {
      "cell_type": "code",
      "source": [
        "arr = np.arange(10) # 0~10 bo'lgan massivni \n",
        "arr"
      ],
      "metadata": {
        "colab": {
          "base_uri": "https://localhost:8080/"
        },
        "id": "twSxHEs10004",
        "outputId": "a7de43a9-7753-4c1a-950f-555bc56f5bae"
      },
      "execution_count": 4,
      "outputs": [
        {
          "output_type": "execute_result",
          "data": {
            "text/plain": [
              "array([0, 1, 2, 3, 4, 5, 6, 7, 8, 9])"
            ]
          },
          "metadata": {},
          "execution_count": 4
        }
      ]
    },
    {
      "cell_type": "markdown",
      "source": [
        "### `sqrt` massivning xar bir elementing kvadrat ildizni qaytaradi"
      ],
      "metadata": {
        "id": "522VX8WU2Z5S"
      }
    },
    {
      "cell_type": "code",
      "source": [
        "np.sqrt(arr)"
      ],
      "metadata": {
        "colab": {
          "base_uri": "https://localhost:8080/"
        },
        "id": "sa4dbjjt2VDL",
        "outputId": "c343e506-5fd3-4685-ad0b-57fc06774fa1"
      },
      "execution_count": 5,
      "outputs": [
        {
          "output_type": "execute_result",
          "data": {
            "text/plain": [
              "array([0.        , 1.        , 1.41421356, 1.73205081, 2.        ,\n",
              "       2.23606798, 2.44948974, 2.64575131, 2.82842712, 3.        ])"
            ]
          },
          "metadata": {},
          "execution_count": 5
        }
      ]
    },
    {
      "cell_type": "markdown",
      "source": [
        "### `square` massining xar bir elemeni kvadaratga oshiradi"
      ],
      "metadata": {
        "id": "NOujoLWH2sGC"
      }
    },
    {
      "cell_type": "code",
      "source": [
        "np.square(arr)"
      ],
      "metadata": {
        "colab": {
          "base_uri": "https://localhost:8080/"
        },
        "id": "ibJSIXM62o8A",
        "outputId": "6c333e30-0dcf-4c6c-a46d-eba21b91fcee"
      },
      "execution_count": 6,
      "outputs": [
        {
          "output_type": "execute_result",
          "data": {
            "text/plain": [
              "array([ 0,  1,  4,  9, 16, 25, 36, 49, 64, 81])"
            ]
          },
          "metadata": {},
          "execution_count": 6
        }
      ]
    },
    {
      "cell_type": "markdown",
      "source": [
        "### `exp` massivning xar bir elementing exponentini qaytaradi"
      ],
      "metadata": {
        "id": "OIGS-f-N283I"
      }
    },
    {
      "cell_type": "code",
      "source": [
        "np.exp(arr)"
      ],
      "metadata": {
        "colab": {
          "base_uri": "https://localhost:8080/"
        },
        "id": "YW0EFKGM26-A",
        "outputId": "88f87579-db14-4de3-e81f-5310c8a8305c"
      },
      "execution_count": 7,
      "outputs": [
        {
          "output_type": "execute_result",
          "data": {
            "text/plain": [
              "array([1.00000000e+00, 2.71828183e+00, 7.38905610e+00, 2.00855369e+01,\n",
              "       5.45981500e+01, 1.48413159e+02, 4.03428793e+02, 1.09663316e+03,\n",
              "       2.98095799e+03, 8.10308393e+03])"
            ]
          },
          "metadata": {},
          "execution_count": 7
        }
      ]
    },
    {
      "cell_type": "markdown",
      "source": [
        "### `log` massivning har bir elementining logarifimini qaytaradi"
      ],
      "metadata": {
        "id": "Ckjc_hw03QXf"
      }
    },
    {
      "cell_type": "code",
      "source": [
        "np.log(arr[2:])"
      ],
      "metadata": {
        "colab": {
          "base_uri": "https://localhost:8080/"
        },
        "id": "VT1rt8Ia3O6j",
        "outputId": "cf89aeac-6d4f-4a28-838d-839a6c81dacf"
      },
      "execution_count": 9,
      "outputs": [
        {
          "output_type": "execute_result",
          "data": {
            "text/plain": [
              "array([0.69314718, 1.09861229, 1.38629436, 1.60943791, 1.79175947,\n",
              "       1.94591015, 2.07944154, 2.19722458])"
            ]
          },
          "metadata": {},
          "execution_count": 9
        }
      ]
    },
    {
      "cell_type": "markdown",
      "source": [
        "### `modf` haqiqiy sonlaring butun va qoldiq qismini ajratib beruvchi funksiya"
      ],
      "metadata": {
        "id": "TsoIF8cS3sIw"
      }
    },
    {
      "cell_type": "code",
      "source": [
        "arr1 = np.random.randn(6)\n",
        "arr1"
      ],
      "metadata": {
        "colab": {
          "base_uri": "https://localhost:8080/"
        },
        "id": "FPuJQGS63f9f",
        "outputId": "2b356980-7413-4472-96e8-90ee2735e39a"
      },
      "execution_count": 14,
      "outputs": [
        {
          "output_type": "execute_result",
          "data": {
            "text/plain": [
              "array([ 1.55013831, -0.90524678, -0.06099761, -0.34933876,  0.16182196,\n",
              "       -1.6686241 ])"
            ]
          },
          "metadata": {},
          "execution_count": 14
        }
      ]
    },
    {
      "cell_type": "code",
      "source": [
        "qoldiq, butun = np.modf(arr1)\n",
        "print(qoldiq)\n",
        "print(butun)"
      ],
      "metadata": {
        "colab": {
          "base_uri": "https://localhost:8080/"
        },
        "id": "elHUR2v8381O",
        "outputId": "284e874b-8a1e-4023-d4b2-198cf6e3f508"
      },
      "execution_count": 15,
      "outputs": [
        {
          "output_type": "stream",
          "name": "stdout",
          "text": [
            "[ 0.55013831 -0.90524678 -0.06099761 -0.34933876  0.16182196 -0.6686241 ]\n",
            "[ 1. -0. -0. -0.  0. -1.]\n"
          ]
        }
      ]
    },
    {
      "cell_type": "markdown",
      "source": [
        "### `sign` massiv elementi manfiy bo'lsa `-1` aksincha `1` ni qaytaradi"
      ],
      "metadata": {
        "id": "sGUl5aNb4km7"
      }
    },
    {
      "cell_type": "code",
      "source": [
        "np.sign(arr1)"
      ],
      "metadata": {
        "colab": {
          "base_uri": "https://localhost:8080/"
        },
        "id": "fM3mjh6N4RXI",
        "outputId": "527dcbd3-4968-4040-d059-74b9597eca9d"
      },
      "execution_count": 16,
      "outputs": [
        {
          "output_type": "execute_result",
          "data": {
            "text/plain": [
              "array([ 1., -1., -1., -1.,  1., -1.])"
            ]
          },
          "metadata": {},
          "execution_count": 16
        }
      ]
    },
    {
      "cell_type": "markdown",
      "source": [
        "# Binary funksiyalar (Ikkta argument qabul qiluvchi)"
      ],
      "metadata": {
        "id": "J1cqzZD449xO"
      }
    },
    {
      "cell_type": "markdown",
      "source": [
        "### `add`, `multiply`, `maximum` funksiyalar"
      ],
      "metadata": {
        "id": "dw09b4Iy5JQH"
      }
    },
    {
      "cell_type": "markdown",
      "source": [
        "### `add` ikkta massivning mos elementlarini qo'shadi"
      ],
      "metadata": {
        "id": "gixgRidN5QKp"
      }
    },
    {
      "cell_type": "code",
      "source": [
        "arr2 = np.random.randn(6)\n",
        "arr3 = np.random.randn(6)\n",
        "print(arr2)\n",
        "print(arr3)"
      ],
      "metadata": {
        "colab": {
          "base_uri": "https://localhost:8080/"
        },
        "id": "JpJty80_43_P",
        "outputId": "b1880010-4ee8-4e72-e655-d1f6be5d07cd"
      },
      "execution_count": 17,
      "outputs": [
        {
          "output_type": "stream",
          "name": "stdout",
          "text": [
            "[-1.50857382 -0.25637514  1.46354733  0.74916624  0.91424324  1.11496013]\n",
            "[ 0.64376287  1.58417858 -0.02446206  0.28420775  1.63111838 -0.89361998]\n"
          ]
        }
      ]
    },
    {
      "cell_type": "code",
      "source": [
        "np.add(arr2,arr3) # arr2 va arr3 ning mos elementlarini qo'shib beradi"
      ],
      "metadata": {
        "colab": {
          "base_uri": "https://localhost:8080/"
        },
        "id": "Hgk6oW9S57wG",
        "outputId": "9827cf82-4dc5-4fbb-b45d-470971e5a3a0"
      },
      "execution_count": 19,
      "outputs": [
        {
          "output_type": "execute_result",
          "data": {
            "text/plain": [
              "array([-0.86481095,  1.32780344,  1.43908527,  1.033374  ,  2.54536163,\n",
              "        0.22134015])"
            ]
          },
          "metadata": {},
          "execution_count": 19
        }
      ]
    },
    {
      "cell_type": "code",
      "source": [
        "arr2 + arr3 # yuqoridagi funksiya bilan bir xil"
      ],
      "metadata": {
        "colab": {
          "base_uri": "https://localhost:8080/"
        },
        "id": "xWM4V4G46B2r",
        "outputId": "557956e2-388b-4ec3-80b4-01ec7a5a5cf6"
      },
      "execution_count": 21,
      "outputs": [
        {
          "output_type": "execute_result",
          "data": {
            "text/plain": [
              "array([-0.86481095,  1.32780344,  1.43908527,  1.033374  ,  2.54536163,\n",
              "        0.22134015])"
            ]
          },
          "metadata": {},
          "execution_count": 21
        }
      ]
    },
    {
      "cell_type": "markdown",
      "source": [
        "### `multipy` ikkita massivning mos elemntlarini ko'paytiradi"
      ],
      "metadata": {
        "id": "sdug_-s16Z7R"
      }
    },
    {
      "cell_type": "code",
      "source": [
        "np.multiply(arr2, arr3)"
      ],
      "metadata": {
        "colab": {
          "base_uri": "https://localhost:8080/"
        },
        "id": "2gqdI9Sv6Uuy",
        "outputId": "d93adecc-ddd8-4e57-b4a1-1b30206b536c"
      },
      "execution_count": 22,
      "outputs": [
        {
          "output_type": "execute_result",
          "data": {
            "text/plain": [
              "array([-0.97116381, -0.40614401, -0.03580139,  0.21291885,  1.49123896,\n",
              "       -0.99635064])"
            ]
          },
          "metadata": {},
          "execution_count": 22
        }
      ]
    },
    {
      "cell_type": "markdown",
      "source": [
        "### `maximum` ikkita massivning elementlarin taqqoslab ulardan kattasining qiymatini qaytaradi"
      ],
      "metadata": {
        "id": "iOsIae_96xUx"
      }
    },
    {
      "cell_type": "code",
      "source": [
        "np.maximum(arr2, arr3)"
      ],
      "metadata": {
        "colab": {
          "base_uri": "https://localhost:8080/"
        },
        "id": "c-4b6EBj6rl_",
        "outputId": "b73d5ac1-d005-4e35-aa31-0d21db2d5378"
      },
      "execution_count": 23,
      "outputs": [
        {
          "output_type": "execute_result",
          "data": {
            "text/plain": [
              "array([0.64376287, 1.58417858, 1.46354733, 0.74916624, 1.63111838,\n",
              "       1.11496013])"
            ]
          },
          "metadata": {},
          "execution_count": 23
        }
      ]
    }
  ]
}