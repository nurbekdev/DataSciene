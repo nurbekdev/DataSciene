{
  "nbformat": 4,
  "nbformat_minor": 0,
  "metadata": {
    "colab": {
      "provenance": [],
      "authorship_tag": "ABX9TyMpY9kBSXnNl2DIBBS19IZq",
      "include_colab_link": true
    },
    "kernelspec": {
      "name": "python3",
      "display_name": "Python 3"
    },
    "language_info": {
      "name": "python"
    }
  },
  "cells": [
    {
      "cell_type": "markdown",
      "metadata": {
        "id": "view-in-github",
        "colab_type": "text"
      },
      "source": [
        "<a href=\"https://colab.research.google.com/github/nurbekdev/DataSciene/blob/main/%2310_unique.ipynb\" target=\"_parent\"><img src=\"https://colab.research.google.com/assets/colab-badge.svg\" alt=\"Open In Colab\"/></a>"
      ]
    },
    {
      "cell_type": "markdown",
      "source": [
        "# Takrorlanmas va boshqa ammalar"
      ],
      "metadata": {
        "id": "K-Kx1YzbelTw"
      }
    },
    {
      "cell_type": "markdown",
      "source": [
        "### NumPy kutubxonasini chaqirib olamiz"
      ],
      "metadata": {
        "id": "oCz2X_s4etQk"
      }
    },
    {
      "cell_type": "code",
      "execution_count": 1,
      "metadata": {
        "id": "9Loni5rAejrW"
      },
      "outputs": [],
      "source": [
        "import numpy as np"
      ]
    },
    {
      "cell_type": "markdown",
      "source": [
        "### `unique` va `in1d` va boshqa usullar haqida"
      ],
      "metadata": {
        "id": "VQW33WE6ezvu"
      }
    },
    {
      "cell_type": "code",
      "source": [
        "# data\n",
        "names = np.array([\"Anvar\", \"Olim\", \"Nurbek\", \"Nurbek\", \"Anvar\"])\n",
        "ints = np.array([1, 2, 3, 4, 5, 2, 3])"
      ],
      "metadata": {
        "id": "3CgKamcreyaX"
      },
      "execution_count": 2,
      "outputs": []
    },
    {
      "cell_type": "code",
      "source": [
        "# unique\n",
        "np.unique(names) # arrayning takrorlanmas elemtlarini qaytaradi (Takrorlansa ham bittasini qaytradi)"
      ],
      "metadata": {
        "colab": {
          "base_uri": "https://localhost:8080/"
        },
        "id": "qZoxKkvlfP1c",
        "outputId": "bbc9bf64-88ed-4dad-9c51-27172477841a"
      },
      "execution_count": 3,
      "outputs": [
        {
          "output_type": "execute_result",
          "data": {
            "text/plain": [
              "array(['Anvar', 'Nurbek', 'Olim'], dtype='<U6')"
            ]
          },
          "metadata": {},
          "execution_count": 3
        }
      ]
    },
    {
      "cell_type": "markdown",
      "source": [
        "### `in1d`"
      ],
      "metadata": {
        "id": "QM2AwS-dgM5c"
      }
    },
    {
      "cell_type": "code",
      "source": [
        "# data\n",
        "arr1 = np.array([1, 2, 0 , 0, 3, 4, 5])\n",
        "arr2 = np.array([2, 5])"
      ],
      "metadata": {
        "id": "OdtmPG5kflTu"
      },
      "execution_count": 4,
      "outputs": []
    },
    {
      "cell_type": "code",
      "source": [
        "np.in1d(arr1, arr2) # arr2 dagi elemtlarni arr1 da mavjudligini tekshirish"
      ],
      "metadata": {
        "colab": {
          "base_uri": "https://localhost:8080/"
        },
        "id": "SwKt47digfEf",
        "outputId": "f406f71f-74eb-4051-d3ee-c8b795c583d5"
      },
      "execution_count": 6,
      "outputs": [
        {
          "output_type": "execute_result",
          "data": {
            "text/plain": [
              "array([False,  True, False, False, False, False,  True])"
            ]
          },
          "metadata": {},
          "execution_count": 6
        }
      ]
    },
    {
      "cell_type": "markdown",
      "source": [
        "### `setdiff1d` usulli"
      ],
      "metadata": {
        "id": "-j75YxffhBsv"
      }
    },
    {
      "cell_type": "code",
      "source": [
        "# data\n",
        "names1 = np.array(['Jasur', 'Abdurahmon', 'Hasan',  'Muhammad', 'Sarvar', 'Temur'])\n",
        "names2 = np.array(['Sarvar', 'Abdurahmon', 'Hasan',  'Temur', 'Sarvar', 'Temur'])"
      ],
      "metadata": {
        "id": "FmjcBWpegl67"
      },
      "execution_count": 7,
      "outputs": []
    },
    {
      "cell_type": "code",
      "source": [
        "np.setdiff1d(names1, names2) # names1 massivining names2 massividagi takrorlanmas qismini qaytaradi"
      ],
      "metadata": {
        "colab": {
          "base_uri": "https://localhost:8080/"
        },
        "id": "SXHZsw1ZhQVC",
        "outputId": "9566e9bb-27af-444c-dc8f-3600a09b85e5"
      },
      "execution_count": 8,
      "outputs": [
        {
          "output_type": "execute_result",
          "data": {
            "text/plain": [
              "array(['Jasur', 'Muhammad'], dtype='<U10')"
            ]
          },
          "metadata": {},
          "execution_count": 8
        }
      ]
    }
  ]
}