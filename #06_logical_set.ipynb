{
  "nbformat": 4,
  "nbformat_minor": 0,
  "metadata": {
    "colab": {
      "provenance": [],
      "authorship_tag": "ABX9TyN5MHDVTXo6PZBPXe581DiZ",
      "include_colab_link": true
    },
    "kernelspec": {
      "name": "python3",
      "display_name": "Python 3"
    },
    "language_info": {
      "name": "python"
    }
  },
  "cells": [
    {
      "cell_type": "markdown",
      "metadata": {
        "id": "view-in-github",
        "colab_type": "text"
      },
      "source": [
        "<a href=\"https://colab.research.google.com/github/nurbekdev/DataSciene/blob/main/%2306_logical_set.ipynb\" target=\"_parent\"><img src=\"https://colab.research.google.com/assets/colab-badge.svg\" alt=\"Open In Colab\"/></a>"
      ]
    },
    {
      "cell_type": "markdown",
      "source": [
        "# Mantiqiy shart operatorlarini massiv operatori sifatida foydalanish"
      ],
      "metadata": {
        "id": "kwoFLs0N-LVk"
      }
    },
    {
      "cell_type": "code",
      "execution_count": 1,
      "metadata": {
        "id": "MKJzLc7F97uM"
      },
      "outputs": [],
      "source": [
        "import numpy as np # NumPy kutubxonasini chaqirib olamiz"
      ]
    },
    {
      "cell_type": "code",
      "source": [
        "#massivlar\n",
        "xarr = np.array([1.1, 1.2, 1.3, 1.4, 1.5])\n",
        "yarr = np.array([2.1, 2.2, 2.3, 2.4, 2.5])\n",
        "print(xarr)\n",
        "print(yarr)"
      ],
      "metadata": {
        "colab": {
          "base_uri": "https://localhost:8080/"
        },
        "id": "mvSgSjl7-enl",
        "outputId": "29c1342a-9612-45b1-9e20-88e8b307f58d"
      },
      "execution_count": 2,
      "outputs": [
        {
          "output_type": "stream",
          "name": "stdout",
          "text": [
            "[1.1 1.2 1.3 1.4 1.5]\n",
            "[2.1 2.2 2.3 2.4 2.5]\n"
          ]
        }
      ]
    },
    {
      "cell_type": "code",
      "source": [
        "#Shart\n",
        "cond = np.array([True, False, True, True, False])"
      ],
      "metadata": {
        "id": "60nN0K5z_A_v"
      },
      "execution_count": 3,
      "outputs": []
    },
    {
      "cell_type": "code",
      "source": [
        "# where\n",
        "result = np.where(cond, xarr, yarr)\n",
        "result"
      ],
      "metadata": {
        "colab": {
          "base_uri": "https://localhost:8080/"
        },
        "id": "CHtr4kfG_Zc0",
        "outputId": "a63b78e7-9ba0-44b7-8320-cc69f3ee97ea"
      },
      "execution_count": 4,
      "outputs": [
        {
          "output_type": "execute_result",
          "data": {
            "text/plain": [
              "array([1.1, 2.2, 1.3, 1.4, 2.5])"
            ]
          },
          "metadata": {},
          "execution_count": 4
        }
      ]
    },
    {
      "cell_type": "code",
      "source": [
        "arr = np.random.randn(4, 4)  # (4, 4) taxminiy massiv\n",
        "arr"
      ],
      "metadata": {
        "colab": {
          "base_uri": "https://localhost:8080/"
        },
        "id": "uUJ0edgH_mo_",
        "outputId": "38c9cc61-5af3-43a3-adcf-2afa6d27f87c"
      },
      "execution_count": 5,
      "outputs": [
        {
          "output_type": "execute_result",
          "data": {
            "text/plain": [
              "array([[-0.31674198,  0.04474111, -0.16249951, -0.81209565],\n",
              "       [ 0.39779382,  0.03528995,  0.95618266,  0.73157371],\n",
              "       [ 1.99115788, -0.96627213, -0.55718149,  0.00724628],\n",
              "       [-0.59731068,  1.92265463, -1.91846184, -0.80552244]])"
            ]
          },
          "metadata": {},
          "execution_count": 5
        }
      ]
    },
    {
      "cell_type": "code",
      "source": [
        "# where\n",
        "results = np.where(arr<0, -2, 2) # arr ning manfiy elementlarini -2 ga musbat elementlarin esa 2 ga almashitirish\n",
        "results"
      ],
      "metadata": {
        "colab": {
          "base_uri": "https://localhost:8080/"
        },
        "id": "cn8OPQRI_qbc",
        "outputId": "db9007f8-dfa5-4da0-cae5-ed0dd1cce8b1"
      },
      "execution_count": 6,
      "outputs": [
        {
          "output_type": "execute_result",
          "data": {
            "text/plain": [
              "array([[-2,  2, -2, -2],\n",
              "       [ 2,  2,  2,  2],\n",
              "       [ 2, -2, -2,  2],\n",
              "       [-2,  2, -2, -2]])"
            ]
          },
          "metadata": {},
          "execution_count": 6
        }
      ]
    },
    {
      "cell_type": "code",
      "source": [],
      "metadata": {
        "id": "1K1qClyu_tHK"
      },
      "execution_count": null,
      "outputs": []
    }
  ]
}