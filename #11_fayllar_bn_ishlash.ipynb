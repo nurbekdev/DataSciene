{
  "nbformat": 4,
  "nbformat_minor": 0,
  "metadata": {
    "colab": {
      "provenance": [],
      "authorship_tag": "ABX9TyOQWWS+FpVAMnGAarRo9Icl",
      "include_colab_link": true
    },
    "kernelspec": {
      "name": "python3",
      "display_name": "Python 3"
    },
    "language_info": {
      "name": "python"
    }
  },
  "cells": [
    {
      "cell_type": "markdown",
      "metadata": {
        "id": "view-in-github",
        "colab_type": "text"
      },
      "source": [
        "<a href=\"https://colab.research.google.com/github/nurbekdev/DataSciene/blob/main/%2311_fayllar_bn_ishlash.ipynb\" target=\"_parent\"><img src=\"https://colab.research.google.com/assets/colab-badge.svg\" alt=\"Open In Colab\"/></a>"
      ]
    },
    {
      "cell_type": "markdown",
      "source": [
        "# Fayllar bilan ishlash"
      ],
      "metadata": {
        "id": "81R4Dm2AiJbT"
      }
    },
    {
      "cell_type": "markdown",
      "source": [
        "### NumPy kutubxonasini chaqirib olamiz"
      ],
      "metadata": {
        "id": "3Od4bqewiMlB"
      }
    },
    {
      "cell_type": "code",
      "execution_count": 1,
      "metadata": {
        "id": "Tb1iqNSNiH8N"
      },
      "outputs": [],
      "source": [
        "import numpy as np"
      ]
    },
    {
      "cell_type": "code",
      "source": [
        "arr = np.arange(10)\n",
        "arr"
      ],
      "metadata": {
        "colab": {
          "base_uri": "https://localhost:8080/"
        },
        "id": "sCAYjCVSiSQ3",
        "outputId": "465d72cd-94ee-446e-e87a-c1600e95b5ae"
      },
      "execution_count": 2,
      "outputs": [
        {
          "output_type": "execute_result",
          "data": {
            "text/plain": [
              "array([0, 1, 2, 3, 4, 5, 6, 7, 8, 9])"
            ]
          },
          "metadata": {},
          "execution_count": 2
        }
      ]
    },
    {
      "cell_type": "code",
      "source": [
        "np.save('data',arr) # data fayliga arrayning ma'lumotlarini yozish"
      ],
      "metadata": {
        "id": "qgBuNNgmi8OH"
      },
      "execution_count": 4,
      "outputs": []
    },
    {
      "cell_type": "code",
      "source": [
        "arr2 = np.load('data.npy') # data.npy faylidan ma'lumotlarni o'qish\n",
        "arr2"
      ],
      "metadata": {
        "colab": {
          "base_uri": "https://localhost:8080/"
        },
        "id": "WWa_FjwFjDZk",
        "outputId": "2eba43d3-92ee-47b3-d0a7-9590b1242c83"
      },
      "execution_count": 6,
      "outputs": [
        {
          "output_type": "execute_result",
          "data": {
            "text/plain": [
              "array([0, 1, 2, 3, 4, 5, 6, 7, 8, 9])"
            ]
          },
          "metadata": {},
          "execution_count": 6
        }
      ]
    },
    {
      "cell_type": "code",
      "source": [
        "arr1 = np.arange(20)\n",
        "arr1"
      ],
      "metadata": {
        "colab": {
          "base_uri": "https://localhost:8080/"
        },
        "id": "0mRQssLajZsc",
        "outputId": "2f750eb9-2594-4d7d-e6a4-6d17c53e0e4d"
      },
      "execution_count": 7,
      "outputs": [
        {
          "output_type": "execute_result",
          "data": {
            "text/plain": [
              "array([ 0,  1,  2,  3,  4,  5,  6,  7,  8,  9, 10, 11, 12, 13, 14, 15, 16,\n",
              "       17, 18, 19])"
            ]
          },
          "metadata": {},
          "execution_count": 7
        }
      ]
    },
    {
      "cell_type": "code",
      "source": [
        "np.savez('arrays', a = arr, b = arr1)"
      ],
      "metadata": {
        "id": "rZJ0rDOWkR5d"
      },
      "execution_count": 8,
      "outputs": []
    },
    {
      "cell_type": "code",
      "source": [
        "arrays = np.load('arrays.npz')"
      ],
      "metadata": {
        "id": "lovaezeMkaMZ"
      },
      "execution_count": 9,
      "outputs": []
    },
    {
      "cell_type": "code",
      "source": [
        "arrays['a']"
      ],
      "metadata": {
        "colab": {
          "base_uri": "https://localhost:8080/"
        },
        "id": "Y2BzEpJykfvc",
        "outputId": "5dafc821-cd29-4d04-e3ef-bbaea29271c0"
      },
      "execution_count": 10,
      "outputs": [
        {
          "output_type": "execute_result",
          "data": {
            "text/plain": [
              "array([0, 1, 2, 3, 4, 5, 6, 7, 8, 9])"
            ]
          },
          "metadata": {},
          "execution_count": 10
        }
      ]
    },
    {
      "cell_type": "code",
      "source": [
        "arrays['b']"
      ],
      "metadata": {
        "colab": {
          "base_uri": "https://localhost:8080/"
        },
        "id": "0_zF00N0khVl",
        "outputId": "2b06b743-79cf-4058-c85c-87acfa63419d"
      },
      "execution_count": 11,
      "outputs": [
        {
          "output_type": "execute_result",
          "data": {
            "text/plain": [
              "array([ 0,  1,  2,  3,  4,  5,  6,  7,  8,  9, 10, 11, 12, 13, 14, 15, 16,\n",
              "       17, 18, 19])"
            ]
          },
          "metadata": {},
          "execution_count": 11
        }
      ]
    },
    {
      "cell_type": "markdown",
      "source": [
        "### Faylni hajmi kichraytirib saqlash"
      ],
      "metadata": {
        "id": "k6dwg3ZpkmOK"
      }
    },
    {
      "cell_type": "code",
      "source": [
        "np.savez_compressed('array_comp.npz', a = arr, b = arr1)"
      ],
      "metadata": {
        "id": "AkpnA-NEkjfD"
      },
      "execution_count": 12,
      "outputs": []
    }
  ]
}