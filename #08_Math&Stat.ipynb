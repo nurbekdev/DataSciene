{
  "nbformat": 4,
  "nbformat_minor": 0,
  "metadata": {
    "colab": {
      "provenance": [],
      "authorship_tag": "ABX9TyPWu4jS+GNQZ4GSAmg2HwrZ",
      "include_colab_link": true
    },
    "kernelspec": {
      "name": "python3",
      "display_name": "Python 3"
    },
    "language_info": {
      "name": "python"
    }
  },
  "cells": [
    {
      "cell_type": "markdown",
      "metadata": {
        "id": "view-in-github",
        "colab_type": "text"
      },
      "source": [
        "<a href=\"https://colab.research.google.com/github/nurbekdev/DataSciene/blob/main/%2308_Math%26Stat.ipynb\" target=\"_parent\"><img src=\"https://colab.research.google.com/assets/colab-badge.svg\" alt=\"Open In Colab\"/></a>"
      ]
    },
    {
      "cell_type": "markdown",
      "source": [
        "# Matematik va Statistik usullarni qo'llash"
      ],
      "metadata": {
        "id": "7el5o12hgkUC"
      }
    },
    {
      "cell_type": "markdown",
      "source": [
        "### NumPy kutubxonasini chaqirib olamiz"
      ],
      "metadata": {
        "id": "62fuhi_IgxS1"
      }
    },
    {
      "cell_type": "code",
      "execution_count": 2,
      "metadata": {
        "id": "ZxttfWhbgccm"
      },
      "outputs": [],
      "source": [
        "import numpy as np"
      ]
    },
    {
      "cell_type": "code",
      "source": [
        "# dataz\n",
        "arr1 = np.random.randn(5, 4)\n",
        "arr1"
      ],
      "metadata": {
        "colab": {
          "base_uri": "https://localhost:8080/"
        },
        "id": "g4RvZyAqhMfx",
        "outputId": "0ecdf5e3-7e89-458d-b8e9-483bb9d4a91c"
      },
      "execution_count": 3,
      "outputs": [
        {
          "output_type": "execute_result",
          "data": {
            "text/plain": [
              "array([[ 1.85589667, -0.08879988,  0.73905934,  1.08975893],\n",
              "       [-1.16614399, -0.43057731,  1.12124168, -1.50567126],\n",
              "       [-0.73682007,  0.39729497,  0.50496174,  1.39353131],\n",
              "       [-0.02383626, -1.2660796 ,  0.56964829,  0.5276619 ],\n",
              "       [-0.87565893, -1.69922827, -0.32639833,  1.22334786]])"
            ]
          },
          "metadata": {},
          "execution_count": 3
        }
      ]
    },
    {
      "cell_type": "markdown",
      "source": [
        "### `sum` metodi"
      ],
      "metadata": {
        "id": "BWKMxWfvYUBe"
      }
    },
    {
      "cell_type": "code",
      "source": [
        "arr1.sum() # arrayning barcha elemtlarini yig'indisini hisoblab beradi"
      ],
      "metadata": {
        "colab": {
          "base_uri": "https://localhost:8080/"
        },
        "id": "k1VRyjuLhqw7",
        "outputId": "fd670d5e-6460-49b7-9bd2-1ab6cc3443d2"
      },
      "execution_count": 5,
      "outputs": [
        {
          "output_type": "execute_result",
          "data": {
            "text/plain": [
              "1.3031887881493038"
            ]
          },
          "metadata": {},
          "execution_count": 5
        }
      ]
    },
    {
      "cell_type": "code",
      "source": [
        "np.sum(arr1)"
      ],
      "metadata": {
        "colab": {
          "base_uri": "https://localhost:8080/"
        },
        "id": "AhnjlAZLYYbB",
        "outputId": "52135f94-1176-4e91-bb49-5de48348a3c0"
      },
      "execution_count": 6,
      "outputs": [
        {
          "output_type": "execute_result",
          "data": {
            "text/plain": [
              "1.3031887881493038"
            ]
          },
          "metadata": {},
          "execution_count": 6
        }
      ]
    },
    {
      "cell_type": "code",
      "source": [
        "arr1.sum(axis=1) # qator bo'yicha yig'indi"
      ],
      "metadata": {
        "colab": {
          "base_uri": "https://localhost:8080/"
        },
        "id": "x5o97AicYhQV",
        "outputId": "c86836f2-8a72-40e0-eaf7-25bf28a74ce3"
      },
      "execution_count": 7,
      "outputs": [
        {
          "output_type": "execute_result",
          "data": {
            "text/plain": [
              "array([ 3.59591506, -1.98115088,  1.55896795, -0.19260566, -1.67793768])"
            ]
          },
          "metadata": {},
          "execution_count": 7
        }
      ]
    },
    {
      "cell_type": "code",
      "source": [
        "arr1.sum(axis=0) # ustun bo'yicha yig'indi"
      ],
      "metadata": {
        "colab": {
          "base_uri": "https://localhost:8080/"
        },
        "id": "by5wY7gbZWke",
        "outputId": "390fd852-ade1-403c-cfac-ae4ef52901f4"
      },
      "execution_count": 8,
      "outputs": [
        {
          "output_type": "execute_result",
          "data": {
            "text/plain": [
              "array([-0.94656257, -3.08739009,  2.60851272,  2.72862874])"
            ]
          },
          "metadata": {},
          "execution_count": 8
        }
      ]
    },
    {
      "cell_type": "markdown",
      "source": [
        "### `mean` metodi "
      ],
      "metadata": {
        "id": "K0-wLISuZdk6"
      }
    },
    {
      "cell_type": "code",
      "source": [
        "#sodda ma'lumot\n",
        "arr2 = np.arange(6) # 0~6 gacha bo'lgan\n",
        "arr2"
      ],
      "metadata": {
        "colab": {
          "base_uri": "https://localhost:8080/"
        },
        "id": "M9pPXZsxZcWs",
        "outputId": "d8f86601-c0b2-4972-e210-76aa97a4231d"
      },
      "execution_count": 9,
      "outputs": [
        {
          "output_type": "execute_result",
          "data": {
            "text/plain": [
              "array([0, 1, 2, 3, 4, 5])"
            ]
          },
          "metadata": {},
          "execution_count": 9
        }
      ]
    },
    {
      "cell_type": "code",
      "source": [
        "#qo'lda hisoblab ko'ramiz\n",
        "result = np.sum(arr2)/len(arr2)\n",
        "result"
      ],
      "metadata": {
        "colab": {
          "base_uri": "https://localhost:8080/"
        },
        "id": "tymdVndAaTRS",
        "outputId": "7ba8967e-e977-4825-d4dd-92b7acb347a1"
      },
      "execution_count": 11,
      "outputs": [
        {
          "output_type": "execute_result",
          "data": {
            "text/plain": [
              "2.5"
            ]
          },
          "metadata": {},
          "execution_count": 11
        }
      ]
    },
    {
      "cell_type": "code",
      "source": [
        "np.mean(arr2)"
      ],
      "metadata": {
        "colab": {
          "base_uri": "https://localhost:8080/"
        },
        "id": "6y48AttZaeqx",
        "outputId": "7415cbd8-a30a-4e84-afcf-f3d3f5dc8d83"
      },
      "execution_count": 12,
      "outputs": [
        {
          "output_type": "execute_result",
          "data": {
            "text/plain": [
              "2.5"
            ]
          },
          "metadata": {},
          "execution_count": 12
        }
      ]
    },
    {
      "cell_type": "code",
      "source": [
        "arr2.mean()"
      ],
      "metadata": {
        "colab": {
          "base_uri": "https://localhost:8080/"
        },
        "id": "LPNHC-6wanFN",
        "outputId": "4e2c9050-452d-4217-e92b-fc8a67cd689d"
      },
      "execution_count": 13,
      "outputs": [
        {
          "output_type": "execute_result",
          "data": {
            "text/plain": [
              "2.5"
            ]
          },
          "metadata": {},
          "execution_count": 13
        }
      ]
    },
    {
      "cell_type": "code",
      "source": [
        "arr1"
      ],
      "metadata": {
        "colab": {
          "base_uri": "https://localhost:8080/"
        },
        "id": "tC9mZoCWapBN",
        "outputId": "bcfeef7e-4e46-4e1d-971f-3b3c5f5050f5"
      },
      "execution_count": 14,
      "outputs": [
        {
          "output_type": "execute_result",
          "data": {
            "text/plain": [
              "array([[ 1.85589667, -0.08879988,  0.73905934,  1.08975893],\n",
              "       [-1.16614399, -0.43057731,  1.12124168, -1.50567126],\n",
              "       [-0.73682007,  0.39729497,  0.50496174,  1.39353131],\n",
              "       [-0.02383626, -1.2660796 ,  0.56964829,  0.5276619 ],\n",
              "       [-0.87565893, -1.69922827, -0.32639833,  1.22334786]])"
            ]
          },
          "metadata": {},
          "execution_count": 14
        }
      ]
    },
    {
      "cell_type": "code",
      "source": [
        "arr1.mean() # arr1 ning o'rtacha qiymati"
      ],
      "metadata": {
        "colab": {
          "base_uri": "https://localhost:8080/"
        },
        "id": "1-DG5QKIaqp6",
        "outputId": "f83b0271-0605-4d58-edcf-6a4daf38bde1"
      },
      "execution_count": 15,
      "outputs": [
        {
          "output_type": "execute_result",
          "data": {
            "text/plain": [
              "0.06515943940746519"
            ]
          },
          "metadata": {},
          "execution_count": 15
        }
      ]
    },
    {
      "cell_type": "code",
      "source": [
        "np.mean(arr1)"
      ],
      "metadata": {
        "colab": {
          "base_uri": "https://localhost:8080/"
        },
        "id": "diipgKL2a-f0",
        "outputId": "30c114d7-6093-4402-b073-0af8d2a4fe2f"
      },
      "execution_count": 16,
      "outputs": [
        {
          "output_type": "execute_result",
          "data": {
            "text/plain": [
              "0.06515943940746519"
            ]
          },
          "metadata": {},
          "execution_count": 16
        }
      ]
    },
    {
      "cell_type": "code",
      "source": [
        "np.mean(arr1, axis=1) # qator bo'yicha o'rtacha qiymat"
      ],
      "metadata": {
        "colab": {
          "base_uri": "https://localhost:8080/"
        },
        "id": "JNdJk3EkbBlp",
        "outputId": "e1c5f5e5-f5df-441b-b861-872f4f639ae2"
      },
      "execution_count": 17,
      "outputs": [
        {
          "output_type": "execute_result",
          "data": {
            "text/plain": [
              "array([ 0.89897877, -0.49528772,  0.38974199, -0.04815142, -0.41948442])"
            ]
          },
          "metadata": {},
          "execution_count": 17
        }
      ]
    },
    {
      "cell_type": "code",
      "source": [
        "arr1.mean(axis=0) # uston bo'yicha o'rtacha qiymat"
      ],
      "metadata": {
        "colab": {
          "base_uri": "https://localhost:8080/"
        },
        "id": "t1ZDkrGJbLmP",
        "outputId": "54657d68-a63a-48e5-f676-0361b7cea4d6"
      },
      "execution_count": 18,
      "outputs": [
        {
          "output_type": "execute_result",
          "data": {
            "text/plain": [
              "array([-0.18931251, -0.61747802,  0.52170254,  0.54572575])"
            ]
          },
          "metadata": {},
          "execution_count": 18
        }
      ]
    },
    {
      "cell_type": "markdown",
      "source": [
        "### `cumsum` metodi"
      ],
      "metadata": {
        "id": "wyfUwwo4bqOv"
      }
    },
    {
      "cell_type": "code",
      "source": [
        "arr2"
      ],
      "metadata": {
        "colab": {
          "base_uri": "https://localhost:8080/"
        },
        "id": "oiY_GGVbcL5_",
        "outputId": "ee054b50-ae9d-4136-e423-909c47986e43"
      },
      "execution_count": 19,
      "outputs": [
        {
          "output_type": "execute_result",
          "data": {
            "text/plain": [
              "array([0, 1, 2, 3, 4, 5])"
            ]
          },
          "metadata": {},
          "execution_count": 19
        }
      ]
    },
    {
      "cell_type": "code",
      "source": [
        "arr2.cumsum()"
      ],
      "metadata": {
        "colab": {
          "base_uri": "https://localhost:8080/"
        },
        "id": "H_yjLFdEcNXK",
        "outputId": "716b038d-4f74-48d6-ac27-100b8eed409d"
      },
      "execution_count": 20,
      "outputs": [
        {
          "output_type": "execute_result",
          "data": {
            "text/plain": [
              "array([ 0,  1,  3,  6, 10, 15])"
            ]
          },
          "metadata": {},
          "execution_count": 20
        }
      ]
    }
  ]
}