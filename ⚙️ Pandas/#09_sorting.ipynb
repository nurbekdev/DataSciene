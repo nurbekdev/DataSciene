{
  "nbformat": 4,
  "nbformat_minor": 0,
  "metadata": {
    "colab": {
      "provenance": [],
      "authorship_tag": "ABX9TyPdTPi8FeVPN2TOSuxZqibX",
      "include_colab_link": true
    },
    "kernelspec": {
      "name": "python3",
      "display_name": "Python 3"
    },
    "language_info": {
      "name": "python"
    }
  },
  "cells": [
    {
      "cell_type": "markdown",
      "metadata": {
        "id": "view-in-github",
        "colab_type": "text"
      },
      "source": [
        "<a href=\"https://colab.research.google.com/github/nurbekdev/DataSciene/blob/main/%2309_sorting.ipynb\" target=\"_parent\"><img src=\"https://colab.research.google.com/assets/colab-badge.svg\" alt=\"Open In Colab\"/></a>"
      ]
    },
    {
      "cell_type": "markdown",
      "source": [
        "# Tartiblash (`Sorting`)"
      ],
      "metadata": {
        "id": "ItvWK6mSISZx"
      }
    },
    {
      "cell_type": "markdown",
      "source": [
        "### NumPy kutubxonasini chaqirib olamiz"
      ],
      "metadata": {
        "id": "ris9OYTNIX_a"
      }
    },
    {
      "cell_type": "code",
      "execution_count": 1,
      "metadata": {
        "id": "ZeXpywCOIEtG"
      },
      "outputs": [],
      "source": [
        "import numpy as np"
      ]
    },
    {
      "cell_type": "markdown",
      "source": [
        "### `Sorting`"
      ],
      "metadata": {
        "id": "Y2qAsZ6_IehF"
      }
    },
    {
      "cell_type": "code",
      "source": [
        "#data\n",
        "arr = np.random.rand(4) # 4 ta taxminiy elemtlardan tashkil topgan massiv\n",
        "arr"
      ],
      "metadata": {
        "colab": {
          "base_uri": "https://localhost:8080/"
        },
        "id": "-AlaNRH6IdPm",
        "outputId": "e16715ee-34c5-44fa-c721-177e7bf72db4"
      },
      "execution_count": 3,
      "outputs": [
        {
          "output_type": "execute_result",
          "data": {
            "text/plain": [
              "array([0.76560794, 0.67905804, 0.06903647, 0.46094022])"
            ]
          },
          "metadata": {},
          "execution_count": 3
        }
      ]
    },
    {
      "cell_type": "markdown",
      "source": [
        "### `sort` funksiyasi"
      ],
      "metadata": {
        "id": "-P3o2iWxI-gy"
      }
    },
    {
      "cell_type": "code",
      "source": [
        "# 1-usul\n",
        "sorted_arr = np.sort(arr) # arrayning barcha elemtlarini tartiblagan holda chop etish\n",
        "sorted_arr"
      ],
      "metadata": {
        "colab": {
          "base_uri": "https://localhost:8080/"
        },
        "id": "eJwOM7VlIq6b",
        "outputId": "c0ac110a-a188-4b85-a741-6f090a284eca"
      },
      "execution_count": 6,
      "outputs": [
        {
          "output_type": "execute_result",
          "data": {
            "text/plain": [
              "array([0.06903647, 0.46094022, 0.67905804, 0.76560794])"
            ]
          },
          "metadata": {},
          "execution_count": 6
        }
      ]
    },
    {
      "cell_type": "code",
      "source": [
        "# 2-usul\n",
        "arr.sort()\n",
        "arr"
      ],
      "metadata": {
        "colab": {
          "base_uri": "https://localhost:8080/"
        },
        "id": "6LZchxVvJWok",
        "outputId": "736400c0-7341-4e43-b9de-a5629138250c"
      },
      "execution_count": 7,
      "outputs": [
        {
          "output_type": "execute_result",
          "data": {
            "text/plain": [
              "array([0.06903647, 0.46094022, 0.67905804, 0.76560794])"
            ]
          },
          "metadata": {},
          "execution_count": 7
        }
      ]
    },
    {
      "cell_type": "code",
      "source": [
        "# teskari tartibda tartiblash\n",
        "rev_arr = -np.sort(-arr)\n",
        "rev_arr"
      ],
      "metadata": {
        "colab": {
          "base_uri": "https://localhost:8080/"
        },
        "id": "SIX0tN37K5eU",
        "outputId": "ce2b4054-98f0-42ef-e4d2-096c3af0849e"
      },
      "execution_count": 8,
      "outputs": [
        {
          "output_type": "execute_result",
          "data": {
            "text/plain": [
              "array([0.76560794, 0.67905804, 0.46094022, 0.06903647])"
            ]
          },
          "metadata": {},
          "execution_count": 8
        }
      ]
    },
    {
      "cell_type": "code",
      "source": [
        "# 2 d massiv\n",
        "arr2d = np.random.randn(2, 4) # (2, 4) massiv\n",
        "arr2d"
      ],
      "metadata": {
        "colab": {
          "base_uri": "https://localhost:8080/"
        },
        "id": "7l2B9l0DLDD0",
        "outputId": "4434f68d-c363-42a9-d394-0a233f44f1bf"
      },
      "execution_count": 9,
      "outputs": [
        {
          "output_type": "execute_result",
          "data": {
            "text/plain": [
              "array([[-1.63238436,  0.46832615, -0.44060803, -0.95053685],\n",
              "       [ 0.33158843, -0.04125327, -0.27310061,  1.38788423]])"
            ]
          },
          "metadata": {},
          "execution_count": 9
        }
      ]
    },
    {
      "cell_type": "code",
      "source": [
        "row_srt = np.sort(arr2d, axis = 0) # axis = 0 --> Qator\n",
        "row_srt"
      ],
      "metadata": {
        "colab": {
          "base_uri": "https://localhost:8080/"
        },
        "id": "41MT6SEYY3bM",
        "outputId": "babf2998-92f8-4730-e1ca-24e5ef1e398b"
      },
      "execution_count": 10,
      "outputs": [
        {
          "output_type": "execute_result",
          "data": {
            "text/plain": [
              "array([[-1.63238436, -0.04125327, -0.44060803, -0.95053685],\n",
              "       [ 0.33158843,  0.46832615, -0.27310061,  1.38788423]])"
            ]
          },
          "metadata": {},
          "execution_count": 10
        }
      ]
    },
    {
      "cell_type": "code",
      "source": [
        "col_srt = np.sort(arr2d, axis = 1) # axis = 1 --> Ustun\n",
        "col_srt"
      ],
      "metadata": {
        "colab": {
          "base_uri": "https://localhost:8080/"
        },
        "id": "9BqQlW4MY_T0",
        "outputId": "88d8fa50-7908-4315-948c-487dd56781b2"
      },
      "execution_count": 11,
      "outputs": [
        {
          "output_type": "execute_result",
          "data": {
            "text/plain": [
              "array([[-1.63238436, -0.95053685, -0.44060803,  0.46832615],\n",
              "       [-0.27310061, -0.04125327,  0.33158843,  1.38788423]])"
            ]
          },
          "metadata": {},
          "execution_count": 11
        }
      ]
    }
  ]
}